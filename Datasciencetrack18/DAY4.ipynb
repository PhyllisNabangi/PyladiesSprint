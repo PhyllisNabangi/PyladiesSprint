{
 "cells": [
  {
   "cell_type": "code",
   "execution_count": 7,
   "metadata": {},
   "outputs": [],
   "source": [
    "# importing libraries to use\n",
    "import numpy as np\n",
    "import pandas as pd"
   ]
  },
  {
   "cell_type": "markdown",
   "metadata": {},
   "source": [
    "Series"
   ]
  },
  {
   "cell_type": "code",
   "execution_count": 10,
   "metadata": {
    "scrolled": true
   },
   "outputs": [
    {
     "data": {
      "text/plain": [
       "0    10\n",
       "1    20\n",
       "2    30\n",
       "3    40\n",
       "4    50\n",
       "5    60\n",
       "6    70\n",
       "7    80\n",
       "dtype: int64"
      ]
     },
     "execution_count": 10,
     "metadata": {},
     "output_type": "execute_result"
    }
   ],
   "source": [
    "#creating a list\n",
    "data = [10, 20, 30, 40, 50, 60, 70, 80]\n",
    "\n",
    "#changing the list to a series\n",
    "sm = pd.Series(data)\n",
    "sm\n"
   ]
  },
  {
   "cell_type": "code",
   "execution_count": 17,
   "metadata": {},
   "outputs": [
    {
     "data": {
      "text/plain": [
       "80"
      ]
     },
     "execution_count": 17,
     "metadata": {},
     "output_type": "execute_result"
    }
   ],
   "source": [
    "#Using an index to pick a value\n",
    "sm[7]"
   ]
  },
  {
   "cell_type": "code",
   "execution_count": 13,
   "metadata": {},
   "outputs": [
    {
     "data": {
      "text/plain": [
       "array([10, 20, 30, 40, 50, 60, 70, 80])"
      ]
     },
     "execution_count": 13,
     "metadata": {},
     "output_type": "execute_result"
    }
   ],
   "source": [
    "arr = np.array(data)\n",
    "arr"
   ]
  },
  {
   "cell_type": "markdown",
   "metadata": {},
   "source": [
    "sm2 = arr*2\n",
    "sm2"
   ]
  },
  {
   "cell_type": "code",
   "execution_count": 14,
   "metadata": {},
   "outputs": [
    {
     "data": {
      "text/plain": [
       "array([ 20,  40,  60,  80, 100, 120, 140, 160])"
      ]
     },
     "execution_count": 14,
     "metadata": {},
     "output_type": "execute_result"
    }
   ],
   "source": [
    "sm2 = arr * 2\n",
    "sm2"
   ]
  },
  {
   "cell_type": "code",
   "execution_count": 18,
   "metadata": {},
   "outputs": [
    {
     "data": {
      "text/plain": [
       "Ten        10\n",
       "Twenty     20\n",
       "Thirty     30\n",
       "Forty      40\n",
       "Fifty      50\n",
       "Sixty      60\n",
       "Seventy    70\n",
       "Eighty     80\n",
       "dtype: int32"
      ]
     },
     "execution_count": 18,
     "metadata": {},
     "output_type": "execute_result"
    }
   ],
   "source": [
    "#Changing the index to word\n",
    "sm3 = pd.Series(arr,index =[\"Ten\", \"Twenty\", \"Thirty\", \"Forty\", \"Fifty\", \"Sixty\", \"Seventy\", \"Eighty\"])\n",
    "sm3"
   ]
  },
  {
   "cell_type": "code",
   "execution_count": 25,
   "metadata": {},
   "outputs": [
    {
     "data": {
      "text/plain": [
       "Desire      12\n",
       "Precious    12\n",
       "Caleb        8\n",
       "Elijah       7\n",
       "Kesna        6\n",
       "Gracious     2\n",
       "Kastein      1\n",
       "dtype: int64"
      ]
     },
     "execution_count": 25,
     "metadata": {},
     "output_type": "execute_result"
    }
   ],
   "source": [
    "#Alist of sibling's age\n",
    "age = [12, 12, 8, 7, 6, 2, 1]\n",
    "#Converting the list to a series\n",
    "sr = pd.Series(age)\n",
    "#Changing the index of the series\n",
    "sr = pd.Series(age,index =[\"Desire\", \"Precious\", \"Caleb\", \"Elijah\", \"Kesna\", \"Gracious\", \"Kastein\"])\n",
    "sr"
   ]
  },
  {
   "cell_type": "markdown",
   "metadata": {},
   "source": [
    "DATA FRAME is a collection of different lists\n",
    "-Rows & Columns\n"
   ]
  },
  {
   "cell_type": "code",
   "execution_count": 30,
   "metadata": {},
   "outputs": [
    {
     "data": {
      "text/html": [
       "<div>\n",
       "<style scoped>\n",
       "    .dataframe tbody tr th:only-of-type {\n",
       "        vertical-align: middle;\n",
       "    }\n",
       "\n",
       "    .dataframe tbody tr th {\n",
       "        vertical-align: top;\n",
       "    }\n",
       "\n",
       "    .dataframe thead th {\n",
       "        text-align: right;\n",
       "    }\n",
       "</style>\n",
       "<table border=\"1\" class=\"dataframe\">\n",
       "  <thead>\n",
       "    <tr style=\"text-align: right;\">\n",
       "      <th></th>\n",
       "      <th>col1</th>\n",
       "      <th>col4</th>\n",
       "    </tr>\n",
       "  </thead>\n",
       "  <tbody>\n",
       "    <tr>\n",
       "      <th>Row1</th>\n",
       "      <td>0.104303</td>\n",
       "      <td>-0.355103</td>\n",
       "    </tr>\n",
       "    <tr>\n",
       "      <th>Row2</th>\n",
       "      <td>-0.532822</td>\n",
       "      <td>1.207189</td>\n",
       "    </tr>\n",
       "    <tr>\n",
       "      <th>Row3</th>\n",
       "      <td>1.371422</td>\n",
       "      <td>2.689415</td>\n",
       "    </tr>\n",
       "    <tr>\n",
       "      <th>Row4</th>\n",
       "      <td>-0.125525</td>\n",
       "      <td>-1.654857</td>\n",
       "    </tr>\n",
       "    <tr>\n",
       "      <th>Row5</th>\n",
       "      <td>0.140527</td>\n",
       "      <td>0.063782</td>\n",
       "    </tr>\n",
       "    <tr>\n",
       "      <th>Row6</th>\n",
       "      <td>1.352593</td>\n",
       "      <td>-0.159624</td>\n",
       "    </tr>\n",
       "  </tbody>\n",
       "</table>\n",
       "</div>"
      ],
      "text/plain": [
       "          col1      col4\n",
       "Row1  0.104303 -0.355103\n",
       "Row2 -0.532822  1.207189\n",
       "Row3  1.371422  2.689415\n",
       "Row4 -0.125525 -1.654857\n",
       "Row5  0.140527  0.063782\n",
       "Row6  1.352593 -0.159624"
      ]
     },
     "execution_count": 30,
     "metadata": {},
     "output_type": "execute_result"
    }
   ],
   "source": [
    "from numpy.random import randn\n",
    "np.random.seed(256)\n",
    "\n",
    "#creating the data frame of random numbers havig 6 rows and 4 columns\n",
    "df = pd.DataFrame(randn(6,4),['Row1','Row2','Row3', 'Row4','Row5','Row6'], ['col1','col2','col3','col4'])\n",
    "df[['col1','col4']] #subsettig: picked data against column name"
   ]
  },
  {
   "cell_type": "code",
   "execution_count": null,
   "metadata": {},
   "outputs": [],
   "source": [
    "#CREATING A DATA FRAME OF RANDOM NUMBERS\n",
    "from numpy.random import randn\n",
    "np.random.seed(123)\n",
    "\n",
    "#creating the data frame of random numbers havig 2 rows and 2 columns\n",
    "df2 = pd.DataFrame(randn(2,2),['Row1','Row2'], ['col1','col2'])\n",
    "df2['col1', 'col2']"
   ]
  },
  {
   "cell_type": "code",
   "execution_count": 38,
   "metadata": {},
   "outputs": [
    {
     "data": {
      "text/html": [
       "<div>\n",
       "<style scoped>\n",
       "    .dataframe tbody tr th:only-of-type {\n",
       "        vertical-align: middle;\n",
       "    }\n",
       "\n",
       "    .dataframe tbody tr th {\n",
       "        vertical-align: top;\n",
       "    }\n",
       "\n",
       "    .dataframe thead th {\n",
       "        text-align: right;\n",
       "    }\n",
       "</style>\n",
       "<table border=\"1\" class=\"dataframe\">\n",
       "  <thead>\n",
       "    <tr style=\"text-align: right;\">\n",
       "      <th></th>\n",
       "      <th>col1</th>\n",
       "      <th>col2</th>\n",
       "      <th>col3</th>\n",
       "      <th>col4</th>\n",
       "    </tr>\n",
       "  </thead>\n",
       "  <tbody>\n",
       "    <tr>\n",
       "      <th>Row6</th>\n",
       "      <td>1.352593</td>\n",
       "      <td>1.355260</td>\n",
       "      <td>0.976698</td>\n",
       "      <td>-0.159624</td>\n",
       "    </tr>\n",
       "    <tr>\n",
       "      <th>Row3</th>\n",
       "      <td>1.371422</td>\n",
       "      <td>-0.673207</td>\n",
       "      <td>1.403908</td>\n",
       "      <td>2.689415</td>\n",
       "    </tr>\n",
       "  </tbody>\n",
       "</table>\n",
       "</div>"
      ],
      "text/plain": [
       "          col1      col2      col3      col4\n",
       "Row6  1.352593  1.355260  0.976698 -0.159624\n",
       "Row3  1.371422 -0.673207  1.403908  2.689415"
      ]
     },
     "execution_count": 38,
     "metadata": {},
     "output_type": "execute_result"
    }
   ],
   "source": [
    "df[::-3] "
   ]
  },
  {
   "cell_type": "code",
   "execution_count": 39,
   "metadata": {},
   "outputs": [
    {
     "data": {
      "text/html": [
       "<div>\n",
       "<style scoped>\n",
       "    .dataframe tbody tr th:only-of-type {\n",
       "        vertical-align: middle;\n",
       "    }\n",
       "\n",
       "    .dataframe tbody tr th {\n",
       "        vertical-align: top;\n",
       "    }\n",
       "\n",
       "    .dataframe thead th {\n",
       "        text-align: right;\n",
       "    }\n",
       "</style>\n",
       "<table border=\"1\" class=\"dataframe\">\n",
       "  <thead>\n",
       "    <tr style=\"text-align: right;\">\n",
       "      <th></th>\n",
       "      <th>col1</th>\n",
       "      <th>col2</th>\n",
       "      <th>col3</th>\n",
       "      <th>col4</th>\n",
       "      <th>col7</th>\n",
       "    </tr>\n",
       "  </thead>\n",
       "  <tbody>\n",
       "    <tr>\n",
       "      <th>Row1</th>\n",
       "      <td>0.104303</td>\n",
       "      <td>-0.550113</td>\n",
       "      <td>-0.072715</td>\n",
       "      <td>-0.355103</td>\n",
       "      <td>-0.445810</td>\n",
       "    </tr>\n",
       "    <tr>\n",
       "      <th>Row2</th>\n",
       "      <td>-0.532822</td>\n",
       "      <td>-0.144523</td>\n",
       "      <td>-0.475807</td>\n",
       "      <td>1.207189</td>\n",
       "      <td>-0.677345</td>\n",
       "    </tr>\n",
       "    <tr>\n",
       "      <th>Row3</th>\n",
       "      <td>1.371422</td>\n",
       "      <td>-0.673207</td>\n",
       "      <td>1.403908</td>\n",
       "      <td>2.689415</td>\n",
       "      <td>0.698216</td>\n",
       "    </tr>\n",
       "    <tr>\n",
       "      <th>Row4</th>\n",
       "      <td>-0.125525</td>\n",
       "      <td>0.491171</td>\n",
       "      <td>-1.674667</td>\n",
       "      <td>-1.654857</td>\n",
       "      <td>0.365646</td>\n",
       "    </tr>\n",
       "    <tr>\n",
       "      <th>Row5</th>\n",
       "      <td>0.140527</td>\n",
       "      <td>-1.568281</td>\n",
       "      <td>0.106287</td>\n",
       "      <td>0.063782</td>\n",
       "      <td>-1.427754</td>\n",
       "    </tr>\n",
       "    <tr>\n",
       "      <th>Row6</th>\n",
       "      <td>1.352593</td>\n",
       "      <td>1.355260</td>\n",
       "      <td>0.976698</td>\n",
       "      <td>-0.159624</td>\n",
       "      <td>2.707854</td>\n",
       "    </tr>\n",
       "  </tbody>\n",
       "</table>\n",
       "</div>"
      ],
      "text/plain": [
       "          col1      col2      col3      col4      col7\n",
       "Row1  0.104303 -0.550113 -0.072715 -0.355103 -0.445810\n",
       "Row2 -0.532822 -0.144523 -0.475807  1.207189 -0.677345\n",
       "Row3  1.371422 -0.673207  1.403908  2.689415  0.698216\n",
       "Row4 -0.125525  0.491171 -1.674667 -1.654857  0.365646\n",
       "Row5  0.140527 -1.568281  0.106287  0.063782 -1.427754\n",
       "Row6  1.352593  1.355260  0.976698 -0.159624  2.707854"
      ]
     },
     "execution_count": 39,
     "metadata": {},
     "output_type": "execute_result"
    }
   ],
   "source": [
    "#creating a new column\n",
    "df['col7'] = df['col1'] + df['col2']\n",
    "df"
   ]
  },
  {
   "cell_type": "code",
   "execution_count": 42,
   "metadata": {},
   "outputs": [
    {
     "data": {
      "text/html": [
       "<div>\n",
       "<style scoped>\n",
       "    .dataframe tbody tr th:only-of-type {\n",
       "        vertical-align: middle;\n",
       "    }\n",
       "\n",
       "    .dataframe tbody tr th {\n",
       "        vertical-align: top;\n",
       "    }\n",
       "\n",
       "    .dataframe thead th {\n",
       "        text-align: right;\n",
       "    }\n",
       "</style>\n",
       "<table border=\"1\" class=\"dataframe\">\n",
       "  <thead>\n",
       "    <tr style=\"text-align: right;\">\n",
       "      <th></th>\n",
       "      <th>col1</th>\n",
       "      <th>col2</th>\n",
       "      <th>col3</th>\n",
       "      <th>col4</th>\n",
       "      <th>col7</th>\n",
       "    </tr>\n",
       "  </thead>\n",
       "  <tbody>\n",
       "    <tr>\n",
       "      <th>Row1</th>\n",
       "      <td>0.104303</td>\n",
       "      <td>-0.550113</td>\n",
       "      <td>-0.072715</td>\n",
       "      <td>-0.355103</td>\n",
       "      <td>-0.445810</td>\n",
       "    </tr>\n",
       "    <tr>\n",
       "      <th>Row2</th>\n",
       "      <td>-0.532822</td>\n",
       "      <td>-0.144523</td>\n",
       "      <td>-0.475807</td>\n",
       "      <td>1.207189</td>\n",
       "      <td>-0.677345</td>\n",
       "    </tr>\n",
       "    <tr>\n",
       "      <th>Row4</th>\n",
       "      <td>-0.125525</td>\n",
       "      <td>0.491171</td>\n",
       "      <td>-1.674667</td>\n",
       "      <td>-1.654857</td>\n",
       "      <td>0.365646</td>\n",
       "    </tr>\n",
       "    <tr>\n",
       "      <th>Row5</th>\n",
       "      <td>0.140527</td>\n",
       "      <td>-1.568281</td>\n",
       "      <td>0.106287</td>\n",
       "      <td>0.063782</td>\n",
       "      <td>-1.427754</td>\n",
       "    </tr>\n",
       "    <tr>\n",
       "      <th>Row6</th>\n",
       "      <td>1.352593</td>\n",
       "      <td>1.355260</td>\n",
       "      <td>0.976698</td>\n",
       "      <td>-0.159624</td>\n",
       "      <td>2.707854</td>\n",
       "    </tr>\n",
       "  </tbody>\n",
       "</table>\n",
       "</div>"
      ],
      "text/plain": [
       "          col1      col2      col3      col4      col7\n",
       "Row1  0.104303 -0.550113 -0.072715 -0.355103 -0.445810\n",
       "Row2 -0.532822 -0.144523 -0.475807  1.207189 -0.677345\n",
       "Row4 -0.125525  0.491171 -1.674667 -1.654857  0.365646\n",
       "Row5  0.140527 -1.568281  0.106287  0.063782 -1.427754\n",
       "Row6  1.352593  1.355260  0.976698 -0.159624  2.707854"
      ]
     },
     "execution_count": 42,
     "metadata": {},
     "output_type": "execute_result"
    }
   ],
   "source": [
    "#removing the rows\n",
    "df.drop('Row3', axis = 0) #"
   ]
  },
  {
   "cell_type": "code",
   "execution_count": null,
   "metadata": {},
   "outputs": [],
   "source": []
  }
 ],
 "metadata": {
  "kernelspec": {
   "display_name": "Python 3",
   "language": "python",
   "name": "python3"
  },
  "language_info": {
   "codemirror_mode": {
    "name": "ipython",
    "version": 3
   },
   "file_extension": ".py",
   "mimetype": "text/x-python",
   "name": "python",
   "nbconvert_exporter": "python",
   "pygments_lexer": "ipython3",
   "version": "3.6.4"
  }
 },
 "nbformat": 4,
 "nbformat_minor": 2
}
