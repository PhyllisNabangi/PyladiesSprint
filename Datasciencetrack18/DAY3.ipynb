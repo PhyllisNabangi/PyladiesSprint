{
 "cells": [
  {
   "cell_type": "code",
   "execution_count": 1,
   "metadata": {},
   "outputs": [
    {
     "data": {
      "text/plain": [
       "'Am the Simplest'"
      ]
     },
     "execution_count": 1,
     "metadata": {},
     "output_type": "execute_result"
    }
   ],
   "source": [
    "def simple(): #function header\n",
    "    \n",
    "    return \"Am the Simplest\" #body of the fuction\n",
    "\n",
    "simple() #call the function"
   ]
  },
  {
   "cell_type": "code",
   "execution_count": 6,
   "metadata": {},
   "outputs": [
    {
     "name": "stdout",
     "output_type": "stream",
     "text": [
      "Thanks for joining pyladies\n"
     ]
    }
   ],
   "source": [
    "gender = \"male\"\n",
    "type = \"facilitator\"\n",
    "\n",
    "def reply():\n",
    "    \n",
    "    if gender == \"female\":\n",
    "        if type == \"facilitator\":\n",
    "            print(\"Dude the event is for ladies\")\n",
    "        else:\n",
    "            print(\"Thanks for coming to facilitate\")\n",
    "            \n",
    "    else:\n",
    "        print(\"Thanks for joining pyladies\")\n",
    "        \n",
    "reply()\n",
    "                \n",
    "    "
   ]
  },
  {
   "cell_type": "code",
   "execution_count": 11,
   "metadata": {},
   "outputs": [
    {
     "data": {
      "text/plain": [
       "8"
      ]
     },
     "execution_count": 11,
     "metadata": {},
     "output_type": "execute_result"
    }
   ],
   "source": [
    "#Function that multiplies 2 numbers\n",
    "def multiplication(a, b):\n",
    "    result = a * b\n",
    "    return result\n",
    "\n",
    "multiplication(2, 4)\n"
   ]
  },
  {
   "cell_type": "code",
   "execution_count": 12,
   "metadata": {},
   "outputs": [
    {
     "name": "stdout",
     "output_type": "stream",
     "text": [
      "P.O BOX 7062\n",
      "Plot 1\n",
      "Kampala-Uganda\n"
     ]
    }
   ],
   "source": [
    "#function that prints my address\n",
    "def myAddress():\n",
    "    print(\"P.O BOX 7062\")\n",
    "    print(\"Plot 1\")\n",
    "    print(\"Kampala-Uganda\")\n",
    "    \n",
    "myAddress()"
   ]
  },
  {
   "cell_type": "code",
   "execution_count": 18,
   "metadata": {},
   "outputs": [
    {
     "data": {
      "text/plain": [
       "'ugx50000'"
      ]
     },
     "execution_count": 18,
     "metadata": {},
     "output_type": "execute_result"
    }
   ],
   "source": [
    "#function that returns the salary in their currency\n",
    "def salaryEarned(currency, amount):\n",
    "    \n",
    "    if currency == \"USD\":\n",
    "        return \"$\" + str(amount)\n",
    "    \n",
    "    elif currency == \"EURO\":\n",
    "        return \"€\" + str(amount)\n",
    "    \n",
    "    elif currency == \"KSH\":\n",
    "        return \"ksh\" + str(amount)\n",
    "    \n",
    "    elif currency == \"FRANC\":\n",
    "        return \"RF\" + str(amount)\n",
    "    \n",
    "    else:\n",
    "        return \"ugx\" + str(amount)\n",
    "    \n",
    "salaryEarned( \"\", 50000)\n",
    "    \n"
   ]
  },
  {
   "cell_type": "code",
   "execution_count": 38,
   "metadata": {},
   "outputs": [
    {
     "data": {
      "text/plain": [
       "'We have finished quite early'"
      ]
     },
     "execution_count": 38,
     "metadata": {},
     "output_type": "execute_result"
    }
   ],
   "source": [
    "def endTime(time):\n",
    "    \n",
    "    if time <= 12:\n",
    "        return \"We have finished quite early\"\n",
    "    elif time == 13:\n",
    "        return \"We have finished on time\"\n",
    "    else:\n",
    "        return \"We are past time\"\n",
    "endTime(12)"
   ]
  },
  {
   "cell_type": "code",
   "execution_count": null,
   "metadata": {},
   "outputs": [],
   "source": []
  },
  {
   "cell_type": "code",
   "execution_count": null,
   "metadata": {},
   "outputs": [],
   "source": []
  },
  {
   "cell_type": "code",
   "execution_count": null,
   "metadata": {},
   "outputs": [],
   "source": []
  }
 ],
 "metadata": {
  "kernelspec": {
   "display_name": "Python 3",
   "language": "python",
   "name": "python3"
  },
  "language_info": {
   "codemirror_mode": {
    "name": "ipython",
    "version": 3
   },
   "file_extension": ".py",
   "mimetype": "text/x-python",
   "name": "python",
   "nbconvert_exporter": "python",
   "pygments_lexer": "ipython3",
   "version": "3.6.4"
  }
 },
 "nbformat": 4,
 "nbformat_minor": 2
}
