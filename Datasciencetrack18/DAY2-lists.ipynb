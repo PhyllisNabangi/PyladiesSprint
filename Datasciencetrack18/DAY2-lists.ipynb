{
 "cells": [
  {
   "cell_type": "code",
   "execution_count": 2,
   "metadata": {},
   "outputs": [
    {
     "name": "stdout",
     "output_type": "stream",
     "text": [
      "Weather for other things\n",
      "Done for now\n"
     ]
    }
   ],
   "source": [
    "blacket_weather = [\"cold\", \"rainy\", \"windy\"]\n",
    "\n",
    "todays_weather = \"sunny\"\n",
    "\n",
    "if todays_weather in blacket_weather:\n",
    "    print(\"Blank time\")\n",
    "else:\n",
    "    print(\"Weather for other things\")\n",
    "print(\"Done for now\")\n",
    "    "
   ]
  },
  {
   "cell_type": "code",
   "execution_count": 3,
   "metadata": {},
   "outputs": [
    {
     "name": "stdout",
     "output_type": "stream",
     "text": [
      "Put on your dancing shoes\n",
      "Thank you\n"
     ]
    }
   ],
   "source": [
    "music_category = [\"dancehall\", \"countrymusic\", \"raggae\", \"rnb\"]\n",
    "\n",
    "favorite_music = \"dancehall\"\n",
    "\n",
    "if favorite_music in music_category:\n",
    "    print(\"Put on your dancing shoes\")\n",
    "else:\n",
    "    print(\"Go and Sleep\")\n",
    "print(\"Thank you\")"
   ]
  },
  {
   "cell_type": "code",
   "execution_count": 6,
   "metadata": {},
   "outputs": [
    {
     "name": "stdout",
     "output_type": "stream",
     "text": [
      "1\n",
      "2\n",
      "3\n",
      "4\n",
      "5\n",
      "6\n",
      "7\n",
      "8\n"
     ]
    }
   ],
   "source": [
    "numbers = [1,2,3,4,5,6,7,8]\n",
    "\n",
    "for current_num in numbers:\n",
    "    print(current_num )"
   ]
  },
  {
   "cell_type": "code",
   "execution_count": 8,
   "metadata": {},
   "outputs": [
    {
     "name": "stdout",
     "output_type": "stream",
     "text": [
      "Phyllis\n",
      "Daisy\n",
      "Edith\n",
      "Joy\n",
      "Hilda\n",
      "Evarce\n",
      "Winnie\n",
      "Irene\n",
      "Sharon\n",
      "Lydia\n"
     ]
    }
   ],
   "source": [
    "pyladies = [\"Phyllis\", \"Daisy\", \"Edith\", \"Joy\", \"Hilda\", \"Evarce\", \"Winnie\", \"Irene\", \"Sharon\", \"Lydia\"]\n",
    "\n",
    "for names in pyladies:\n",
    "    print(names)"
   ]
  },
  {
   "cell_type": "code",
   "execution_count": 1,
   "metadata": {},
   "outputs": [
    {
     "name": "stdout",
     "output_type": "stream",
     "text": [
      "Babe wakeup, you have a pyladies class\n",
      "Good morning\n"
     ]
    }
   ],
   "source": [
    "todays_day = \"Saturday\"\n",
    "\n",
    "if todays_day == \"Saturday\":\n",
    "   print (\"Babe wakeup, you have a pyladies class\")\n",
    "\n",
    "elif todays_day == \"Sunday\":\n",
    "    print (\"You have a week to the pyladies class\")\n",
    "    \n",
    "elif todays_day == \"Monday\":\n",
    "    print (\"You have 5 days to the pyladies class\")\n",
    "\n",
    "elif todays_day == \"Tuesday\":\n",
    "    print (\"You have 4 days to the pyladies class\")\n",
    "    \n",
    "elif todays_day == \"Wednesday\":\n",
    "    print (\"You have 3 days to the pyladies class\")\n",
    "    \n",
    "elif todays_day == \"Thursday\":\n",
    "    print (\"You have 2 days to the pyladies class\")\n",
    "    \n",
    "elif todays_day == \"Friday\":\n",
    "    print (\"Tommorrow is the pyladies class\")\n",
    "    \n",
    "print(\"Good morning\")"
   ]
  },
  {
   "cell_type": "code",
   "execution_count": 11,
   "metadata": {},
   "outputs": [
    {
     "name": "stdout",
     "output_type": "stream",
     "text": [
      "sum is \n",
      "210\n",
      "Average is\n",
      "35.0\n"
     ]
    }
   ],
   "source": [
    "numbers = [10, 20, 30, 40, 50, 60]\n",
    "sum = 0\n",
    "for num in numbers:\n",
    "    sum += num\n",
    "average = sum/len(numbers)\n",
    "print (\"sum is \")\n",
    "print (sum)\n",
    "print (\"Average is\")\n",
    "print (average)"
   ]
  },
  {
   "cell_type": "code",
   "execution_count": null,
   "metadata": {},
   "outputs": [],
   "source": []
  }
 ],
 "metadata": {
  "kernelspec": {
   "display_name": "Python 3",
   "language": "python",
   "name": "python3"
  },
  "language_info": {
   "codemirror_mode": {
    "name": "ipython",
    "version": 3
   },
   "file_extension": ".py",
   "mimetype": "text/x-python",
   "name": "python",
   "nbconvert_exporter": "python",
   "pygments_lexer": "ipython3",
   "version": "3.6.4"
  }
 },
 "nbformat": 4,
 "nbformat_minor": 2
}
